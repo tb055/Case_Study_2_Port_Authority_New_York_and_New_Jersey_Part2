{
 "cells": [
  {
   "cell_type": "code",
   "execution_count": 2,
   "metadata": {},
   "outputs": [
    {
     "data": {
      "text/html": [
       "<style>    span.str {color:#BA2121; font-style:italic; font-weight:bold;}    span.num {color:#080; font-style:italic; font-weight:bold;}    span.bltn {color:#080; font-weight:bold;}    span.op {color:#AA22FF;}    span.func {color:#00F; font-weight:bold;}    h3.yt {color:#009900; font-style:italic;}    span.yt {color:#009900; font-style:italic;}</style>"
      ],
      "text/plain": [
       "<IPython.core.display.HTML object>"
      ]
     },
     "execution_count": 2,
     "metadata": {},
     "output_type": "execute_result"
    }
   ],
   "source": [
    "# Use of IPython.display and HTML for using css to format text in Markdown based on\n",
    "# www.dataquest.io/blog/advanced-jupyter-notebooks-tutorial\n",
    "from IPython.display import HTML\n",
    "HTML(\n",
    "    \"<style>\\\n",
    "    span.str {color:#BA2121; font-style:italic; font-weight:bold;}\\\n",
    "    span.num {color:#080; font-style:italic; font-weight:bold;}\\\n",
    "    span.bltn {color:#080; font-weight:bold;}\\\n",
    "    span.op {color:#AA22FF;}\\\n",
    "    span.func {color:#00F; font-weight:bold;}\\\n",
    "    h3.yt {color:#009900; font-style:italic;}\\\n",
    "    span.yt {color:#009900; font-style:italic;}</style>\"\n",
    ")"
   ]
  },
  {
   "cell_type": "markdown",
   "metadata": {},
   "source": [
    "<h2><b><u>Case Study - Port Authority of New York and New Jersey - Part 2</u></b></h2>\n",
    "\n",
    "In this case study you will practice what you've learned from DataCamp's Data Science Toolbox Part 1 and the DASC 2113 lecture. This will include writing and working with different types of <b><i>functions</i></b>. \n",
    "\n",
    "<h3><b><i>Background</i></b></h3>\n",
    "You will continue to work with and examine the PANYNJ <b><i>Air Passenger Traffic per Month</i></b> dataset introduced in the previous Port Authority of New York and New Jersey case study. \n",
    "\n",
    "<h3><b><i>Goal</i></b></h3>\n",
    "The goal of this exercise is to examine the Port Authority of NY NJ's <b><i>Air Passenger Traffic per Month</i></b> dataset. You will examine different aspects of the data and use it to answer questions in the <span class=\"yt\">\"Your Turn\"</span> section of this Notebook. \n",
    "\n",
    "You will practice topics covered in DataCamp's <a href = \"https://learn.datacamp.com/courses/intermediate-python\">Intermediate Python</a> and <a href = \"https://learn.datacamp.com/courses/python-data-science-toolbox-part-1\">Python Data Science Toolbox (Part 1)</a> such as: creating and using <b><i> user-defined functions</i></b>, use <b><i>error handling</i></b> in a user-defined function, create and use <b><i>lambda functions</i></b>, and become more familiar with <b><i>scope</i></b> of variables.\n",
    "\n",
    "<h3><b><i>Data</i></b></h3>\n",
    "The <a href = \"https://data.ny.gov/Transportation/Air-Passenger-Traffic-per-Month-Port-Authority-of-/8pkr-4b7t\">PANYNY Air Passenger Traffic per Month dataset</a> collects data on passengers using the five airport facilities managed by the agency. The dataset includes the years from 1977 - 2015 with monthly passenger counts for each airport [5]. The monthly passenger counts include both passenger arrivals and departures aggregated counts for both domestic and international flights [5]. In this exercise you will be working with a selected subset of the full data. \n"
   ]
  },
  {
   "cell_type": "markdown",
   "metadata": {},
   "source": [
    "<h3> Creating your own functions </h3>\n",
    "In the code blocks below you will work on writing <b><i>user-defined functions</i></b>. You will be presented with various scenarios and will create functions that can be used as solutions. "
   ]
  },
  {
   "cell_type": "markdown",
   "metadata": {},
   "source": [
    "<h4><u> Scenario 1:</u></h4>\n",
    "\n",
    "You have been asked to check that the total number of passengers reported monthly is correct. To do this, check that <span class=\"num\">'Total Passengers'</span> <span class=\"op\">==</span> <span class=\"num\">'Domestic Passengers'</span> <span class=\"op\">+</span> <span class=\"num\">'International Passengers'</span> for each entry in the data. You will need to do this every time new monthly data is reported and that the data will maintain the same order and format. <b><i>Due to specifications by your boss you cannot use pandas.</i></b>\n",
    "\n",
    "Create a function <span class=\"func\">checkTotalPass()</span> in the cell below that checks the correctness of the <i>Total Passengers</i> column for each row in the data. If a row is incorrect <span class=\"bltn\">print</span> that row. "
   ]
  },
  {
   "cell_type": "code",
   "execution_count": 3,
   "metadata": {},
   "outputs": [
    {
     "name": "stdout",
     "output_type": "stream",
     "text": [
      "[['Airport Code', 'Year', 'Month', 'Domestic Passengers', 'International Passengers', 'Total Passengers'], ['ACY', '2015', 'Feb', '96431', '65', '96496'], ['ACY', '2015', 'Aug', '108700', '1932', '110632'], ['ACY', '2015', 'Sep', '82268', '315', '82583'], ['ACY', '2015', 'Jan', '98177', '90', '98267'], ['ACY', '2015', 'Jul', '109247', '1894', '111141'], ['ACY', '2015', 'Dec', '101600', '28', '101628'], ['ACY', '2015', 'Jun', '96259', '1102', '97361'], ['ACY', '2015', 'May', '103668', '425', '104093'], ['ACY', '2015', 'Oct', '80901', '443', '81344'], ['ACY', '2015', 'Nov', '94358', '0', '94358']]\n"
     ]
    }
   ],
   "source": [
    "# NOTE: Code in this cell is complete. Make sure you understand the code before running the cell.\n",
    "# Code to load csv using csv module. For more information on the csv module: https://docs.python.org/3/library/csv.html\n",
    "import csv\n",
    "\n",
    "airport_data= []\n",
    "\n",
    "# Read in csv file to a list.\n",
    "with open('Data/ACY_EWR_JFK_2015_2013.csv', newline='') as csvfile:\n",
    "    csv_reader = csv.reader(csvfile, delimiter=',', quotechar='|') # quotechar for string markers\n",
    "    for row in csv_reader: # iterator faster \n",
    "        airport_data.append(list(row)) # convert to list\n",
    "        \n",
    "# Data you will work with        \n",
    "air_subset = airport_data[0:11][:] #[0:11]-0 indexes the first outer list and the 11 acesses the first 11 lists of lists\n",
    "print(air_subset)"
   ]
  },
  {
   "cell_type": "markdown",
   "metadata": {},
   "source": [
    "<h4><u> Creating a User-Defined Function </u></h4>\n",
    "In the code above the csv file was imported into a <span class=\"bltn\">list</span> called <b><i>airport_data</i></b> which was then subset into a smaller version, <b><i>air_subset</i></b> that contains the first 10 rows of the file. \n",
    "\n",
    "Below is the code for the function <span class=\"func\">checkTotalPass</span>. It is declared with the <span class=\"bltn\">def</span> keyword and has one <span class=\"bltn\">parameter</span> <b><i>air_data</i></b> which is a nested list. You will fill in various lines of the <span class=\"func\">checkTotalPass</span> function based on the comments as hints. "
   ]
  },
  {
   "cell_type": "code",
   "execution_count": 4,
   "metadata": {},
   "outputs": [],
   "source": [
    "\"\"\" Function to check if the total amount of passengers is recorded correctly for each month. If it is incorrect, print\n",
    "the incorrect data. \n",
    "\n",
    "Args: air_data (nested list): Nested list. Each sublist contains a row of data. \n",
    "\n",
    "Returns: void\n",
    "\"\"\" \n",
    "# doc string (documentation string) line 1 description of function, line 2 variables expected, line 3 doesn't return anything\n",
    "# add doc strings to functions\n",
    "\n",
    "def checkTotalPass(air_data): \n",
    "    \n",
    "    # Create a new list that does not contain the sublist with the data header. Store it in a variable called data_only\n",
    "    # Hint: Access the 2-d air_data elements beginning at the 1st row and include all columns [1:][:]. \n",
    "    data_only =air_data[1:][:] # removes header\n",
    "\n",
    "    # Empty List to store incorrect results \n",
    "    incor_list = []\n",
    "    \n",
    "    # Loop through data only. Hint: Use a for loop \n",
    "    for val in data_only:\n",
    "\n",
    "        # Store the 'Total Passenger' value in a variable total_p. Hint: Extract the last element of val. \n",
    "        # Make sure to cast to an int using int()\n",
    "        total_p = int(val[-1]) # string converted to string\n",
    "        \n",
    "        # Store the 'Domestic Passenger' value in a variable d_pass. Hint: Extract the element of val at position 3.\n",
    "        # Make sure to cast to an int using int()\n",
    "        d_pass = int(val[3]) # convert to int\n",
    "\n",
    "        # Store the 'International Passenger' value in a variable i_pass. Hint: Extract the second to last element from val. \n",
    "        # Make sure to cast to an int using int()\n",
    "        i_pass = int(val[-2]) # convert to int\n",
    "\n",
    "        # Calculate a variable sum_pass by adding d_pass + i_pass\n",
    "        sum_pass = d_pass + i_pass\n",
    "    \n",
    "        # Check if sum_pass == total_p. If not append val to incor_list. \n",
    "        if (sum_pass != total_p):\n",
    "            incor_list.append(val)\n",
    "            \n",
    "    # Check if any incorrect results by checking if incor_list contains > 0 elements. \n",
    "    if(len(incor_list) > 0):\n",
    "\n",
    "        # Print the header. Hint: print the first row in air_data, i.e. element 0. Include all columns\n",
    "        print(air_data[0][:])\n",
    "\n",
    "        # Print each incorrect value in incor_list\n",
    "    for incor_val   in incor_list:\n",
    "        print(incor_val)\n",
    "            "
   ]
  },
  {
   "cell_type": "markdown",
   "metadata": {},
   "source": [
    "<h4><u> Calling a User-Defined Function </u></h4>\n",
    "\n",
    "Now that the code for <span class=\"func\">checkTotalPass</span> has been completed, the function can be called by passing a <span class=\"bltn\">nested list</span> to it. In the Code cell below, call the <span class=\"fun\">checkTotalPass</span> function with <b><i>air_subset</i></b> as the function argument. "
   ]
  },
  {
   "cell_type": "code",
   "execution_count": 5,
   "metadata": {},
   "outputs": [],
   "source": [
    "# Call checkTotalPass with air_subset\n",
    "checkTotalPass(air_subset) # checks if every row checks out"
   ]
  },
  {
   "cell_type": "markdown",
   "metadata": {},
   "source": [
    "The <span class=\"func\">checkTotalPass</span> function did not print any output so we know that the <span class=\"num\">'Total Passengers'</span> <span class=\"op\">==</span> <span class=\"num\">'Domestic Passengers'</span> <span class=\"op\">+</span> <span class=\"num\">'International Passengers'</span> for each entry in the data.\n",
    "\n",
    "Now let's append a new list to the <b><i>air_subset</i></b> nested list that represents a new row in the data, then run the <span class=\"func\">checkTotalPass</span> function again. "
   ]
  },
  {
   "cell_type": "code",
   "execution_count": 6,
   "metadata": {},
   "outputs": [
    {
     "name": "stdout",
     "output_type": "stream",
     "text": [
      "['Airport Code', 'Year', 'Month', 'Domestic Passengers', 'International Passengers', 'Total Passengers']\n",
      "['ACY', '2015', 'Apr', '105539', '161', '105000']\n"
     ]
    }
   ],
   "source": [
    "# NOTE: Code in this cell is complete. Make sure you understand the code before running the cell.\n",
    "# Add an incorrect entry to air_subset\n",
    "air_subset.append(['ACY', '2015', 'Apr', '105539', '161', '105000'])\n",
    "\n",
    "# Run again\n",
    "checkTotalPass(air_subset)"
   ]
  },
  {
   "cell_type": "markdown",
   "metadata": {},
   "source": [
    "We can see from the output above that the newly added row (<span class=\"bltn\">list</span>) has an error in the <i>Total Passengers</i> value. Since we made the code for checking this into the user-defined function <span class=\"func\">checkTotalPass</span> it was easy to check the newly added data. "
   ]
  },
  {
   "cell_type": "markdown",
   "metadata": {},
   "source": [
    "<h3>Scenario 2: Import CSV Function</h3>\n",
    "In a couple of the case study Notebooks you have seen code to <span class=\"bltn\">import</span> a csv file without using external libraries such as NumPy or pandas. The structure of the code is the same, the only difference is variable names. This is a good opportunity to create a user-defined function to import the csv file instead of having to duplicate the code over and over. \n"
   ]
  },
  {
   "cell_type": "markdown",
   "metadata": {},
   "source": [
    "<h4><u> Creating a User-Defined Function </u></h4>\n",
    "Below is the code for the function <span class=\"func\">readCSV2List</span>. It is declared with the <span class=\"bltn\">def</span> keyword and has one <span class=\"bltn\">parameter</span> <b><i>file_info</i></b> which is a <span class=\"str\">string</span>. Read through the lines of the <span class=\"func\">readCSV2List</span> function. This function contains much of the same code as you've seen before, however adds a <span class=\"bltn\">try and except</span> block to handle <b>errors</b> that might occur during the read in process.\n"
   ]
  },
  {
   "cell_type": "code",
   "execution_count": 7,
   "metadata": {},
   "outputs": [],
   "source": [
    "# NOTE: Code in this cell is complete. Make sure you understand the code before running the cell.\n",
    "# Error handling based on: https://docs.python.org/3/library/csv.html\n",
    "\n",
    "\"\"\" Read in a csv file using Python's csv module. \n",
    "\n",
    "Args: file_info (string): Full file path and file name of csv to read in. \n",
    "\n",
    "Returns: Nested list of the data in the csv file. Each row is stored as a sublist. \n",
    "\"\"\"\n",
    "def readCSV2List(file_info): \n",
    "    # Import Python's built in csv module \n",
    "    import csv\n",
    "    \n",
    "    # Import says to handle errors\n",
    "    import sys\n",
    "\n",
    "    # Create a list to store the sublists\n",
    "    data= []\n",
    "\n",
    "    # Handle errors\n",
    "    try:\n",
    "        # Read in csv file to a list.\n",
    "        with open(file_info, newline='') as csvfile:\n",
    "            csv_reader = csv.reader(csvfile, delimiter=',', quotechar='|')\n",
    "            for row in csv_reader:\n",
    "                    data.append(list(row))     \n",
    "        return data\n",
    "    except csv.Error as e: \n",
    "        print(e)"
   ]
  },
  {
   "cell_type": "markdown",
   "metadata": {},
   "source": [
    "<h4><u> Calling a User-Defined Function </u></h4>\n",
    "Let's call the <span class=\"func\">readCSV2List</span> function to open the same csv file <span class=\"str\">\"Data/ACY_EWR_JFK_2015_2013.csv\"</span> that was previously opened into a variable <b><i>test_read</i></b>. Then let's check to make sure that the function is working correctly by check that the contents of <b><i>test_read</i></b> are equal to the contents of <b><i>airport_data</i></b>."
   ]
  },
  {
   "cell_type": "code",
   "execution_count": 8,
   "metadata": {},
   "outputs": [
    {
     "data": {
      "text/plain": [
       "True"
      ]
     },
     "execution_count": 8,
     "metadata": {},
     "output_type": "execute_result"
    }
   ],
   "source": [
    "# Check that the readCSV2List function reads the data the same as previous code. \n",
    "\n",
    "#Read in the 'Data/ACY_EWR_JFK_2015_2013.csv' \n",
    "# using readCSV2List as test_read. \n",
    "test_read = readCSV2List('./Data/ACY_EWR_JFK_2015_2013.csv') # start with ./ to read data in different folder\n",
    "# good practice to store data in folder that is separate from code\n",
    "# starting with ../ will look back up the file structure\n",
    "\n",
    "# Test if test_read's contents are equal to airport_data's contents. \n",
    "# If the contents are equal the output should show True\n",
    "test_read == airport_data"
   ]
  },
  {
   "cell_type": "markdown",
   "metadata": {},
   "source": [
    "Now that we've seen the <span class=\"func\">readCSV2List</span> function working, let's see what happens when it tries to open a csv file that doesn't exist. The function will <span class=\"bltn\">try</span> to open and read in the file then when it encounters an error it will move to the <span class=\"bltn\"> except</span> block and <span class=\"bltn\">print</span> the error. "
   ]
  },
  {
   "cell_type": "code",
   "execution_count": 9,
   "metadata": {},
   "outputs": [
    {
     "ename": "FileNotFoundError",
     "evalue": "[Errno 2] No such file or directory: 'Data/test_file.csv'",
     "output_type": "error",
     "traceback": [
      "\u001b[0;31m---------------------------------------------------------------------------\u001b[0m",
      "\u001b[0;31mFileNotFoundError\u001b[0m                         Traceback (most recent call last)",
      "\u001b[1;32m/Users/tonibeatty/UARK_coding/DASC_2113/M02-python-for-data-science-1/Case_Study_-_Port_Authority_of_New_York_and_New_Jersey_-_Part_2_-_Student.ipynb Cell 19\u001b[0m in \u001b[0;36m<cell line: 3>\u001b[0;34m()\u001b[0m\n\u001b[1;32m      <a href='vscode-notebook-cell:/Users/tonibeatty/UARK_coding/DASC_2113/M02-python-for-data-science-1/Case_Study_-_Port_Authority_of_New_York_and_New_Jersey_-_Part_2_-_Student.ipynb#X24sZmlsZQ%3D%3D?line=0'>1</a>\u001b[0m \u001b[39m# Call readCSV2List function and store the returned list in a variable error_read.\u001b[39;00m\n\u001b[1;32m      <a href='vscode-notebook-cell:/Users/tonibeatty/UARK_coding/DASC_2113/M02-python-for-data-science-1/Case_Study_-_Port_Authority_of_New_York_and_New_Jersey_-_Part_2_-_Student.ipynb#X24sZmlsZQ%3D%3D?line=1'>2</a>\u001b[0m \u001b[39m# Read a file that does not exist called 'test_file.csv'.\u001b[39;00m\n\u001b[0;32m----> <a href='vscode-notebook-cell:/Users/tonibeatty/UARK_coding/DASC_2113/M02-python-for-data-science-1/Case_Study_-_Port_Authority_of_New_York_and_New_Jersey_-_Part_2_-_Student.ipynb#X24sZmlsZQ%3D%3D?line=2'>3</a>\u001b[0m error_read \u001b[39m=\u001b[39m readCSV2List(\u001b[39m'\u001b[39;49m\u001b[39mData/test_file.csv\u001b[39;49m\u001b[39m'\u001b[39;49m)\n",
      "\u001b[1;32m/Users/tonibeatty/UARK_coding/DASC_2113/M02-python-for-data-science-1/Case_Study_-_Port_Authority_of_New_York_and_New_Jersey_-_Part_2_-_Student.ipynb Cell 19\u001b[0m in \u001b[0;36mreadCSV2List\u001b[0;34m(file_info)\u001b[0m\n\u001b[1;32m     <a href='vscode-notebook-cell:/Users/tonibeatty/UARK_coding/DASC_2113/M02-python-for-data-science-1/Case_Study_-_Port_Authority_of_New_York_and_New_Jersey_-_Part_2_-_Student.ipynb#X24sZmlsZQ%3D%3D?line=19'>20</a>\u001b[0m \u001b[39m# Handle errors\u001b[39;00m\n\u001b[1;32m     <a href='vscode-notebook-cell:/Users/tonibeatty/UARK_coding/DASC_2113/M02-python-for-data-science-1/Case_Study_-_Port_Authority_of_New_York_and_New_Jersey_-_Part_2_-_Student.ipynb#X24sZmlsZQ%3D%3D?line=20'>21</a>\u001b[0m \u001b[39mtry\u001b[39;00m:\n\u001b[1;32m     <a href='vscode-notebook-cell:/Users/tonibeatty/UARK_coding/DASC_2113/M02-python-for-data-science-1/Case_Study_-_Port_Authority_of_New_York_and_New_Jersey_-_Part_2_-_Student.ipynb#X24sZmlsZQ%3D%3D?line=21'>22</a>\u001b[0m     \u001b[39m# Read in csv file to a list.\u001b[39;00m\n\u001b[0;32m---> <a href='vscode-notebook-cell:/Users/tonibeatty/UARK_coding/DASC_2113/M02-python-for-data-science-1/Case_Study_-_Port_Authority_of_New_York_and_New_Jersey_-_Part_2_-_Student.ipynb#X24sZmlsZQ%3D%3D?line=22'>23</a>\u001b[0m     \u001b[39mwith\u001b[39;00m \u001b[39mopen\u001b[39;49m(file_info, newline\u001b[39m=\u001b[39;49m\u001b[39m'\u001b[39;49m\u001b[39m'\u001b[39;49m) \u001b[39mas\u001b[39;00m csvfile:\n\u001b[1;32m     <a href='vscode-notebook-cell:/Users/tonibeatty/UARK_coding/DASC_2113/M02-python-for-data-science-1/Case_Study_-_Port_Authority_of_New_York_and_New_Jersey_-_Part_2_-_Student.ipynb#X24sZmlsZQ%3D%3D?line=23'>24</a>\u001b[0m         csv_reader \u001b[39m=\u001b[39m csv\u001b[39m.\u001b[39mreader(csvfile, delimiter\u001b[39m=\u001b[39m\u001b[39m'\u001b[39m\u001b[39m,\u001b[39m\u001b[39m'\u001b[39m, quotechar\u001b[39m=\u001b[39m\u001b[39m'\u001b[39m\u001b[39m|\u001b[39m\u001b[39m'\u001b[39m)\n\u001b[1;32m     <a href='vscode-notebook-cell:/Users/tonibeatty/UARK_coding/DASC_2113/M02-python-for-data-science-1/Case_Study_-_Port_Authority_of_New_York_and_New_Jersey_-_Part_2_-_Student.ipynb#X24sZmlsZQ%3D%3D?line=24'>25</a>\u001b[0m         \u001b[39mfor\u001b[39;00m row \u001b[39min\u001b[39;00m csv_reader:\n",
      "\u001b[0;31mFileNotFoundError\u001b[0m: [Errno 2] No such file or directory: 'Data/test_file.csv'"
     ]
    }
   ],
   "source": [
    "# Call readCSV2List function and store the returned list in a variable error_read.\n",
    "# Read a file that does not exist called 'test_file.csv'.\n",
    "error_read = readCSV2List('Data/test_file.csv')\n"
   ]
  },
  {
   "cell_type": "markdown",
   "metadata": {},
   "source": [
    "The <span class=\"func\">readCSV2List</span> returns the error encountered in the <span class=\"bltn\">try</span> block. The full stack trace of the error is not shown. For the purposes of this course you could use the <span class=\"func\">readCSV2List </span> function to <span class=\"bltn\">import</span> a provided csv file used with this class's Juypter Notebooks as a nested list. However, you will most often use a pre-written function from a library such as <b><i>pandas</i></b> to read in csv files. "
   ]
  },
  {
   "cell_type": "markdown",
   "metadata": {},
   "source": [
    "<h3>Lambda Functions</h3>\n",
    "In the code blocks below you will practice with lambda functions. "
   ]
  },
  {
   "cell_type": "markdown",
   "metadata": {},
   "source": [
    "<h4><u>Creating and Using a Function</u></h4>\n",
    "In the code block is a function <span class=\"func\">addPassengers</span> that takes two <span class=\"str\">strings</span> that represent the passengers values as parameters. The <span class=\"func\">addPassengers</span> function then converts these values to <span class=\"num\">integers</span> and <span class=\"op\">adds </span> them together returning the sum. "
   ]
  },
  {
   "cell_type": "code",
   "execution_count": null,
   "metadata": {},
   "outputs": [],
   "source": [
    "# Let's write a function that adds together two passenger values from the air_subset variable and returns the results. \n",
    "# needs a doc string\n",
    "def addPassengers(p1, p2): \n",
    "    # Add p1 to p2 and store in the variable sum_pass\n",
    "    sum_pass = int(p1) + int(p2)\n",
    "    \n",
    "    # return sum_p\n",
    "    return sum_pass"
   ]
  },
  {
   "cell_type": "markdown",
   "metadata": {},
   "source": [
    "Now that we've written <span class=\"func\">addPassengers</span> let's extract data from <b><i>air_subset</i></b> to use with the function. The variable <b><i>d_1</i></b> stores the value of the domestic passenger count from the first row and <b><i>i_1</i></b> the international passenger count from the first row. <b><i>d_1 and i_1</i></b> will be passed as arguments to <span class=\"func\"> addPassengers</span> and the return value stored in <b><i>t_1</i></b>. <span class=\"bltn\">Print</span> the value of <b><i>t_1</i></b>. "
   ]
  },
  {
   "cell_type": "code",
   "execution_count": null,
   "metadata": {},
   "outputs": [
    {
     "name": "stdout",
     "output_type": "stream",
     "text": [
      "96496\n"
     ]
    }
   ],
   "source": [
    "# Extract the domestic passenger value for the first row of data in air_subset and store this as d_1. \n",
    "#Remember that air_subset[0][:] contains the data headers and that the domestic passenger column is located at index 3.\n",
    "d_1 = air_subset[1][3]\n",
    "\n",
    "# Extract the international passenger value for the first row of data in air_subset and store this as i_1. \n",
    "# Remember that the international passenger column is located at index 4. \n",
    "i_1 = air_subset[1][4]\n",
    "\n",
    "# Call the addPassengers function with d_1 and i_1 as arguments store the result as t_1\n",
    "t_1 = addPassengers(d_1, i_1)\n",
    "\n",
    "# print t_1\n",
    "print(t_1)"
   ]
  },
  {
   "cell_type": "markdown",
   "metadata": {},
   "source": [
    "<h4><u>Creating and Using a Lambda Function</u></h4>\n",
    "Let's create a <span class=\"bltn\">lambda function</span> that produces the same result as the <span class=\"func\">addPassengers</span> function and store the result in the variable <b><i>add_pass</i></b>. <span class=\"bltn\">Print</span> <b><i>t_2</i></b>. "
   ]
  },
  {
   "cell_type": "code",
   "execution_count": null,
   "metadata": {},
   "outputs": [
    {
     "name": "stdout",
     "output_type": "stream",
     "text": [
      "96496\n"
     ]
    }
   ],
   "source": [
    "# Write addPassengers as a lambda function called add_pass. Hint: (lambda: parameter1, parameter2: int(parameter1) + int(parameter2))\n",
    "add_pass = (lambda p1, p2: int(p1) + int(p2))\n",
    "\n",
    "# Call add pass and store result in variable t_2\n",
    "t_2 = add_pass(d_1, i_1)\n",
    "\n",
    "# print t_2\n",
    "print(t_2)"
   ]
  },
  {
   "cell_type": "markdown",
   "metadata": {},
   "source": [
    "<h3> Variable Scope </h3>\n",
    "In the code blocks below you will practice with the <b><i>scope</i></b> of variables. This section will not use data from the Air Passenger Traffic per Month data, but will instead use user-defined variables."
   ]
  },
  {
   "cell_type": "markdown",
   "metadata": {},
   "source": [
    "<h4><u>Global and Local Scope</u></h4>\n",
    "As you work through completing the code in the cell below, think about the following questions: \n",
    "\n",
    "Why does the variable <b><i>x</i></b> <span class=\"bltn\">print</span> <span class=\"num\">0, 1, 2, 3, 3</span> in the <span class=\"func\">print3Ints</span> function but then <span class=\"bltn\">print</span> <span class=\"num\">0</span> in the last <span class=\"bltn\">print</span> statement? What does this show about the <b><i>scope</i></b> of the variable <b><i>x</i></b>? "
   ]
  },
  {
   "cell_type": "code",
   "execution_count": null,
   "metadata": {},
   "outputs": [
    {
     "name": "stdout",
     "output_type": "stream",
     "text": [
      "1\n",
      "2\n",
      "3\n",
      "3\n",
      "\n",
      " 0\n"
     ]
    }
   ],
   "source": [
    "# NOTE: Code in this cell is complete. Make sure you understand the code before running the cell.\n",
    "\n",
    "# Create a variable x and store in it an integer value 0\n",
    "x = 0\n",
    "\n",
    "# Create a function to loop through a list of integers\n",
    "# Create a list containing the values 1 through 3. Store it in a variable called three_ints.\n",
    "def print3Ints(): \n",
    "    three_ints = [1, 2, 3]\n",
    "    \n",
    "\n",
    "    # Loop through the three_ints list\n",
    "    for an_int in three_ints:\n",
    "        # Create a variable x. Set it equal to  each value looped through (an_int)\n",
    "        x = an_int\n",
    "        print(x) # prints inside loop and inside function\n",
    "    print(x)     # prints outside loop and inside function\n",
    "\n",
    "# Call print3Ints\n",
    "print3Ints()\n",
    "\n",
    "# Print x. Does it print 0 or 3? \n",
    "print(\"\\n\", x)  # prints outside function - var x outside function is different var than the var x inside the function"
   ]
  },
  {
   "cell_type": "markdown",
   "metadata": {},
   "source": [
    "Why does the variable <b><i>x</i></b> <span class=\"bltn\">print</span> <span class=\"num\">0, 1, 2, 3, 3</span> in the <span class=\"func\">print3Ints</span> function but then <span class=\"bltn\">print</span> <span class=\"num\">0</span> in the last <span class=\"bltn\">print</span> statement? What does this show about the <b><i>scope</i></b> of the variable <b><i>x</i></b>? \n",
    "\n",
    "Type your answers here.\n",
    "\n",
    "\n",
    "Possible Answer: The first declaration of x = 0 is a variable created at the global scope. It is available from anywhere in the program after its declaration. The variable x = an_int is created within the print3Ints function and has a local scope. This makes it accessible only within the function. The last print statement prints the x with the global scope which retains the 0 value."
   ]
  },
  {
   "cell_type": "markdown",
   "metadata": {},
   "source": [
    "<h4><u>Global and Local Scope - Example 2</u></h4>\n",
    "As you work through completing the code in the cell below, think about the following questions: \n",
    "\n",
    "Why is the <span class=\"func\">innerInts</span> function able to <span class=\"bltn\">print</span> the values of <b><i>x</i></b> in the <span class=\"func\">print3Ints</span> function? \n"
   ]
  },
  {
   "cell_type": "code",
   "execution_count": null,
   "metadata": {},
   "outputs": [
    {
     "name": "stdout",
     "output_type": "stream",
     "text": [
      "Value of x:  0\n",
      "Outer function:  1\n",
      "Inner function:  1\n",
      "Outer function:  2\n",
      "Inner function:  2\n",
      "Outer function:  3\n",
      "Inner function:  3\n",
      "Final value stored in x variable in print3Ints function:  3\n",
      "\n",
      "Value of x:  0\n"
     ]
    }
   ],
   "source": [
    "# Create a variable x and store in it an integer value 0\n",
    "x = 0\n",
    "\n",
    "print(\"Value of x: \", x)\n",
    "\n",
    "# Modify the printInts function to include an inner function\n",
    "def print3Ints(): \n",
    "    def innerInts():\n",
    "        print(\"Inner function: \", x)\n",
    "        \n",
    "    three_ints = [1, 2, 3]\n",
    "    \n",
    "\n",
    "    # Loop through the three_ints list\n",
    "    for an_int in three_ints:\n",
    "        # Create a variable x. Set it equal to  each value looped through\n",
    "        x = an_int\n",
    "        print(\"Outer function: \", x)\n",
    "        innerInts()\n",
    "    print(\"Final value stored in x variable in print3Ints function: \", x)\n",
    "    \n",
    "print3Ints()\n",
    "    \n",
    "# Print x. Does it print 0 or 3? \n",
    "print(\"\\nValue of x: \",x)    "
   ]
  },
  {
   "cell_type": "markdown",
   "metadata": {},
   "source": [
    "Why is the <span class=\"func\">innerInts</span> function able to <span class=\"bltn\">print</span> the values of <b><i>x</i></b> in the <span class=\"func\">print3Ints</span> function? \n",
    "\n",
    "Type your answers here.\n",
    "\n",
    "Possible Answer: \n",
    "The innerInts() function is enclosed within the scope of the print3Ints function. It is able to access variables declared in it."
   ]
  },
  {
   "cell_type": "markdown",
   "metadata": {},
   "source": [
    "In the Code cell below, try calling the <span class=\"func\">innerInts</span> function declared in the previous code block. "
   ]
  },
  {
   "cell_type": "code",
   "execution_count": null,
   "metadata": {},
   "outputs": [
    {
     "ename": "NameError",
     "evalue": "name 'innerInts' is not defined",
     "output_type": "error",
     "traceback": [
      "\u001b[0;31m---------------------------------------------------------------------------\u001b[0m",
      "\u001b[0;31mNameError\u001b[0m                                 Traceback (most recent call last)",
      "\u001b[1;32m/Users/tonibeatty/UARK_coding/DASC_2113/M02-python-for-data-science-1/Case_Study_-_Port_Authority_of_New_York_and_New_Jersey_-_Part_2_-_Student.ipynb Cell 36\u001b[0m in \u001b[0;36m<cell line: 2>\u001b[0;34m()\u001b[0m\n\u001b[1;32m      <a href='vscode-notebook-cell:/Users/tonibeatty/UARK_coding/DASC_2113/M02-python-for-data-science-1/Case_Study_-_Port_Authority_of_New_York_and_New_Jersey_-_Part_2_-_Student.ipynb#X50sZmlsZQ%3D%3D?line=0'>1</a>\u001b[0m \u001b[39m# Try calling the innerInts() function.\u001b[39;00m\n\u001b[0;32m----> <a href='vscode-notebook-cell:/Users/tonibeatty/UARK_coding/DASC_2113/M02-python-for-data-science-1/Case_Study_-_Port_Authority_of_New_York_and_New_Jersey_-_Part_2_-_Student.ipynb#X50sZmlsZQ%3D%3D?line=1'>2</a>\u001b[0m innerInts()\n",
      "\u001b[0;31mNameError\u001b[0m: name 'innerInts' is not defined"
     ]
    }
   ],
   "source": [
    "# Try calling the innerInts() function.\n",
    "innerInts()\n",
    "\n",
    "# cannot call this function outside of the print3Ints() function."
   ]
  },
  {
   "cell_type": "markdown",
   "metadata": {},
   "source": [
    "Why did the <span class=\"func\">innerInts</span> function call not work?\n",
    "\n",
    "Type your answer here. \n",
    "\n",
    "Possible Answer: The innerInts() function's scope is enclosed within the print3Ints() function. It is not available from outside of it. "
   ]
  },
  {
   "cell_type": "markdown",
   "metadata": {},
   "source": [
    "<h3 class=\"yt\">Your Turn: 1</h3>\n",
    "In this Markdown Cell, describe the purpose of each line in the <span class=\"func\">readCSV2List</span> function. Number each line starting with <span class=\"bltn\">def</span> <span class=\"func\">readCSV2List</span> as <b>#1</b>.\n",
    "\n",
    "<b><u>Answer:</u></b>\n"
   ]
  },
  {
   "cell_type": "markdown",
   "metadata": {},
   "source": [
    "<h3 class=\"yt\">Your Turn: 2</h3>\n",
    "Think of a common task you might encounter when working with data. Create pseudocode for a <span class=\"func\">function</span> to handle this task. Identify a <b>name</b> for the function, the <b><i>parameters</i></b> the would take, the <b>steps needed to implement it</b>, and any <b><i>value</i></b> returned by the function. \n",
    "\n",
    "Type your answer in this Markdown cell. \n",
    "\n",
    "<b><u>Answer: </u></b>\n",
    "Line 1: This is the function header with one parameter. It gives the name of the function.\n",
    "Line 2: Comment\n",
    "Line 3: This is the command to import the csv library which has Python csv file handling fiunctions.\n",
    "Line 4: Blank\n",
    "Line 5: Comment\n",
    "Line 6: This is the command to import the Python sys module which has functions to handle parts of the runtime environment.\n",
    "Line 7: Blank\n",
    "Line 8: Comment\n",
    "Line 9: The variable data is assigned as a blank list placeholder to store sublists.\n",
    "Line 10: Blank\n",
    "Line 11: Comment\n",
    "Line 12: Start of a 'try' block to test the code section for errors.\n",
    "Line 13: Comment\n",
    "Line 14: Open a csv file in READ with the file object named csvfile. Newlines are started with a space.\n",
    "Line 15: Convert csvfile to csv.reader object and save it as csv_reader with ',' used to separate fields and '|' to quote fields.\n",
    "Line 16: Begins for loop to extract data one row at a time.\n",
    "Line 17: Add each newly read row to the lit, 'data'\n",
    "Line 18: Return the list, data\n",
    "Line 19: This will handle exceptions and is executed if the 'try' block finds an error which occurs when the 'try' block finds a line of data that does not fit the requirments.\n",
    "Line 20: Print error message"
   ]
  },
  {
   "cell_type": "markdown",
   "metadata": {},
   "source": [
    "Your Turn: 2\n",
    "Think of a common task you might encounter when working with data. Create pseudocode for a function to handle this task. Identify a name for the function, the parameters the would take, the steps needed to implement it, and any value returned by the function.\n",
    "\n",
    "Type your answer in this Markdown cell.\n",
    "\n",
    "Answer: \n",
    "# Common Task: Convert Old English measure of miles to Metric kilometers\n",
    "# Pseudo Code:\n",
    "Define function - name: 'Convert_mi_to_km' and parameter: 'file_info'\n",
    "    import module csv to handle csv files\n",
    "    import module sys to handle errors\n",
    "    create placeholder list called data\n",
    "    start error checking with 'try'\n",
    "        read the csv file to a list called csvfile with ' ' for newlines\n",
    "            create new object csv_reader from csvfile and set field separator and field quotes\n",
    "            start 'for' loop to iterate through csv_reader\n",
    "                convert miles to kilometers and add modified rows to 'data' list\n",
    "        return the modified 'data' list\n",
    "    set error handling for errors found\n",
    "        print error\n"
   ]
  },
  {
   "cell_type": "markdown",
   "metadata": {},
   "source": [
    "<h3 class=\"yt\">Your Turn: 3</h3>\n",
    "Fill in the missing code in the <span class=\"func\">code2LC</span> function. The function should take a <span class=\"bltn\">nested list</span> as its <b><i>parameter</i></b> and return a <span class=\"bltn\">list</span> of <span class=\"str\">lower case airport codes</span>. The comments can be used as hints. Call the function with <b><i>air_subset</i></b> as the argument. "
   ]
  },
  {
   "cell_type": "code",
   "execution_count": 11,
   "metadata": {},
   "outputs": [
    {
     "name": "stdout",
     "output_type": "stream",
     "text": [
      "['acy']\n",
      "['acy', 'acy']\n",
      "['acy', 'acy', 'acy']\n",
      "['acy', 'acy', 'acy', 'acy']\n",
      "['acy', 'acy', 'acy', 'acy', 'acy']\n",
      "['acy', 'acy', 'acy', 'acy', 'acy', 'acy']\n",
      "['acy', 'acy', 'acy', 'acy', 'acy', 'acy', 'acy']\n",
      "['acy', 'acy', 'acy', 'acy', 'acy', 'acy', 'acy', 'acy']\n",
      "['acy', 'acy', 'acy', 'acy', 'acy', 'acy', 'acy', 'acy', 'acy']\n",
      "['acy', 'acy', 'acy', 'acy', 'acy', 'acy', 'acy', 'acy', 'acy', 'acy']\n",
      "['acy', 'acy', 'acy', 'acy', 'acy', 'acy', 'acy', 'acy', 'acy', 'acy', 'acy']\n"
     ]
    }
   ],
   "source": [
    "## see: Creating a User Defined Function\n",
    "\n",
    "# Function to print airport code as lower case\n",
    "def code2LC(air_data):\n",
    "    # Create a list lower case \n",
    "    lower_case = []\n",
    "    \n",
    "    # Remove the header column from aList.\n",
    "    aList = air_data[1:][:]\n",
    "\n",
    "    # Loop through the values in aList\n",
    "    for val in aList:\n",
    "        \n",
    "        # Store the airport code in the variable a_code\n",
    "        a_code = val[0]\n",
    "        \n",
    "        # print a_code as lowercase with .lower()\n",
    "        lower_case.append(a_code.lower())\n",
    "        print(lower_case)\n",
    "\n",
    "    # Return lower_case\n",
    "    return lower_case\n",
    "              \n",
    "# Call the code2LC function with air_subset as the argument. Store the results in the variable lc and print it. \n",
    "lc = code2LC(air_subset)\n"
   ]
  },
  {
   "cell_type": "markdown",
   "metadata": {},
   "source": [
    "<h3 class=\"yt\">Your Turn: 4</h3>\n",
    "Create the <span class=\"func\">code2LC</span> function as a <span class=\"bltn\">lambda function</span>. Store the result in the variable <b><i>a_2_lower</i></b>. It should <span class=\"bltn\">print</span> the same results as your function in Your Turn 3."
   ]
  },
  {
   "cell_type": "code",
   "execution_count": 25,
   "metadata": {},
   "outputs": [
    {
     "name": "stdout",
     "output_type": "stream",
     "text": [
      "['acy', 'acy', 'acy', 'acy', 'acy', 'acy', 'acy', 'acy', 'acy', 'acy', 'acy']\n"
     ]
    }
   ],
   "source": [
    "# Hint: use map() with the lambda function. \n",
    "a_2_lower = map(lambda air_subset: air_subset[0].lower(), air_subset[1:][:])\n",
    "\n",
    "# Convert a_2_lower to a list then print\n",
    "print(list(a_2_lower))"
   ]
  },
  {
   "cell_type": "code",
   "execution_count": null,
   "metadata": {},
   "outputs": [],
   "source": []
  }
 ],
 "metadata": {
  "kernelspec": {
   "display_name": "Python 3.10.6 ('dasc2113')",
   "language": "python",
   "name": "python3"
  },
  "language_info": {
   "codemirror_mode": {
    "name": "ipython",
    "version": 3
   },
   "file_extension": ".py",
   "mimetype": "text/x-python",
   "name": "python",
   "nbconvert_exporter": "python",
   "pygments_lexer": "ipython3",
   "version": "3.10.6"
  },
  "vscode": {
   "interpreter": {
    "hash": "2ed5dcc253f7f948d38030eccf64b1e505f446711326e66c414ebab08aa270fb"
   }
  }
 },
 "nbformat": 4,
 "nbformat_minor": 4
}
